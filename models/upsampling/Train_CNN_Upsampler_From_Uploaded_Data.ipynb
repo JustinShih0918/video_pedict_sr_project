{
  "cells": [
    {
      "cell_type": "markdown",
      "id": "a294dcb8",
      "metadata": {
        "id": "a294dcb8"
      },
      "source": [
        "# 安裝必要套件"
      ]
    },
    {
      "cell_type": "code",
      "execution_count": null,
      "id": "c3dcb96a",
      "metadata": {
        "vscode": {
          "languageId": "plaintext"
        },
        "id": "c3dcb96a"
      },
      "outputs": [],
      "source": [
        "!pip install -q torch torchvision matplotlib\n",
        "\n",
        "import os\n",
        "import zipfile\n",
        "from google.colab import drive\n",
        "from google.colab import files\n",
        "import matplotlib.pyplot as plt\n",
        "from PIL import Image\n",
        "import torch\n",
        "import torch.nn as nn\n",
        "import torchvision.transforms as T\n",
        "from torch.utils.data import Dataset, DataLoader"
      ]
    },
    {
      "cell_type": "markdown",
      "id": "ac5cb42c",
      "metadata": {
        "id": "ac5cb42c"
      },
      "source": [
        "# 上傳並解壓縮資料集"
      ]
    },
    {
      "cell_type": "code",
      "execution_count": null,
      "id": "d292f0ea",
      "metadata": {
        "vscode": {
          "languageId": "plaintext"
        },
        "colab": {
          "base_uri": "https://localhost:8080/",
          "height": 349
        },
        "id": "d292f0ea",
        "outputId": "962e8d7e-bda1-4c03-fbf1-aadcbe5980ab"
      },
      "outputs": [
        {
          "output_type": "stream",
          "name": "stdout",
          "text": [
            "正在連接 Google 雲端硬碟...\n",
            "Mounted at /content/drive\n",
            "Google 雲端硬碟連接完成。\n",
            "找到 zip 檔案：/content/drive/My Drive/dataset/topic4_release.zip\n",
            "正在解壓縮檔案到 dataset...\n",
            "解壓縮完成，開始讀取資料\n"
          ]
        },
        {
          "output_type": "error",
          "ename": "NameError",
          "evalue": "name 'uploaded' is not defined",
          "traceback": [
            "\u001b[0;31m---------------------------------------------------------------------------\u001b[0m",
            "\u001b[0;31mNameError\u001b[0m                                 Traceback (most recent call last)",
            "\u001b[0;32m<ipython-input-9-5e9a16823d3a>\u001b[0m in \u001b[0;36m<cell line: 0>\u001b[0;34m()\u001b[0m\n\u001b[1;32m     25\u001b[0m     \u001b[0mprint\u001b[0m\u001b[0;34m(\u001b[0m\u001b[0;34mf\"錯誤：找不到指定的 zip 檔案：{zip_file_path_in_drive}\"\u001b[0m\u001b[0;34m)\u001b[0m\u001b[0;34m\u001b[0m\u001b[0;34m\u001b[0m\u001b[0m\n\u001b[1;32m     26\u001b[0m     \u001b[0mprint\u001b[0m\u001b[0;34m(\u001b[0m\u001b[0;34m\"請檢查檔案路徑是否正確，並確保檔案已上傳到 Google 雲端硬碟。\"\u001b[0m\u001b[0;34m)\u001b[0m\u001b[0;34m\u001b[0m\u001b[0;34m\u001b[0m\u001b[0m\n\u001b[0;32m---> 27\u001b[0;31m \u001b[0mzip_path\u001b[0m \u001b[0;34m=\u001b[0m \u001b[0mlist\u001b[0m\u001b[0;34m(\u001b[0m\u001b[0muploaded\u001b[0m\u001b[0;34m.\u001b[0m\u001b[0mkeys\u001b[0m\u001b[0;34m(\u001b[0m\u001b[0;34m)\u001b[0m\u001b[0;34m)\u001b[0m\u001b[0;34m[\u001b[0m\u001b[0;36m0\u001b[0m\u001b[0;34m]\u001b[0m\u001b[0;34m\u001b[0m\u001b[0;34m\u001b[0m\u001b[0m\n\u001b[0m\u001b[1;32m     28\u001b[0m \u001b[0;32mwith\u001b[0m \u001b[0mzipfile\u001b[0m\u001b[0;34m.\u001b[0m\u001b[0mZipFile\u001b[0m\u001b[0;34m(\u001b[0m\u001b[0mzip_path\u001b[0m\u001b[0;34m,\u001b[0m \u001b[0;34m'r'\u001b[0m\u001b[0;34m)\u001b[0m \u001b[0;32mas\u001b[0m \u001b[0mzip_ref\u001b[0m\u001b[0;34m:\u001b[0m\u001b[0;34m\u001b[0m\u001b[0;34m\u001b[0m\u001b[0m\n\u001b[1;32m     29\u001b[0m     \u001b[0mzip_ref\u001b[0m\u001b[0;34m.\u001b[0m\u001b[0mextractall\u001b[0m\u001b[0;34m(\u001b[0m\u001b[0;34m\"dataset\"\u001b[0m\u001b[0;34m)\u001b[0m\u001b[0;34m\u001b[0m\u001b[0;34m\u001b[0m\u001b[0m\n",
            "\u001b[0;31mNameError\u001b[0m: name 'uploaded' is not defined"
          ]
        }
      ],
      "source": [
        "print(\"正在連接 Google 雲端硬碟...\")\n",
        "drive.mount('/content/drive')\n",
        "print(\"Google 雲端硬碟連接完成。\")\n",
        "# 指定您的 .zip 檔案在雲端硬碟中的路徑\n",
        "# 請將 'My Drive/your_dataset.zip' 替換為您實際的檔案路徑\n",
        "zip_file_path_in_drive = '/content/drive/My Drive/dataset/topic4_release.zip'\n",
        "\n",
        "# 指定解壓縮的目標資料夾名稱\n",
        "extract_folder_name = \"dataset\"\n",
        "\n",
        "# 檢查 zip 檔案是否存在\n",
        "if os.path.exists(zip_file_path_in_drive):\n",
        "    print(f\"找到 zip 檔案：{zip_file_path_in_drive}\")\n",
        "\n",
        "    # 建立目標資料夾（如果不存在）\n",
        "    if not os.path.exists(extract_folder_name):\n",
        "        os.makedirs(extract_folder_name)\n",
        "\n",
        "    # 解壓縮檔案\n",
        "    print(f\"正在解壓縮檔案到 {extract_folder_name}...\")\n",
        "    with zipfile.ZipFile(zip_file_path_in_drive, 'r') as zip_ref:\n",
        "        zip_ref.extractall(extract_folder_name)\n",
        "    print(\"解壓縮完成，開始讀取資料\")\n",
        "else:\n",
        "    print(f\"錯誤：找不到指定的 zip 檔案：{zip_file_path_in_drive}\")\n",
        "    print(\"請檢查檔案路徑是否正確，並確保檔案已上傳到 Google 雲端硬碟。\")\n",
        "\n",
        "print(\"解壓縮完成，開始讀取資料\")"
      ]
    },
    {
      "cell_type": "markdown",
      "id": "5e3e3919",
      "metadata": {
        "id": "5e3e3919"
      },
      "source": [
        "# 建立 Dataset"
      ]
    },
    {
      "cell_type": "code",
      "execution_count": null,
      "id": "13291eca",
      "metadata": {
        "vscode": {
          "languageId": "plaintext"
        },
        "colab": {
          "base_uri": "https://localhost:8080/",
          "height": 280
        },
        "id": "13291eca",
        "outputId": "5ba19484-e77d-4fe9-b5cc-52ae0ff42b55"
      },
      "outputs": [
        {
          "output_type": "error",
          "ename": "NameError",
          "evalue": "name 'Dataset' is not defined",
          "traceback": [
            "\u001b[0;31m---------------------------------------------------------------------------\u001b[0m",
            "\u001b[0;31mNameError\u001b[0m                                 Traceback (most recent call last)",
            "\u001b[0;32m<ipython-input-1-379cfe08c0c1>\u001b[0m in \u001b[0;36m<cell line: 0>\u001b[0;34m()\u001b[0m\n\u001b[0;32m----> 1\u001b[0;31m \u001b[0;32mclass\u001b[0m \u001b[0mSRDataset\u001b[0m\u001b[0;34m(\u001b[0m\u001b[0mDataset\u001b[0m\u001b[0;34m)\u001b[0m\u001b[0;34m:\u001b[0m\u001b[0;34m\u001b[0m\u001b[0;34m\u001b[0m\u001b[0m\n\u001b[0m\u001b[1;32m      2\u001b[0m     \u001b[0;32mdef\u001b[0m \u001b[0m__init__\u001b[0m\u001b[0;34m(\u001b[0m\u001b[0mself\u001b[0m\u001b[0;34m,\u001b[0m \u001b[0mroot_dir\u001b[0m\u001b[0;34m)\u001b[0m\u001b[0;34m:\u001b[0m\u001b[0;34m\u001b[0m\u001b[0;34m\u001b[0m\u001b[0m\n\u001b[1;32m      3\u001b[0m         \u001b[0mself\u001b[0m\u001b[0;34m.\u001b[0m\u001b[0mhr_root\u001b[0m \u001b[0;34m=\u001b[0m \u001b[0mos\u001b[0m\u001b[0;34m.\u001b[0m\u001b[0mpath\u001b[0m\u001b[0;34m.\u001b[0m\u001b[0mjoin\u001b[0m\u001b[0;34m(\u001b[0m\u001b[0mroot_dir\u001b[0m\u001b[0;34m,\u001b[0m \u001b[0;34m\"train\"\u001b[0m\u001b[0;34m,\u001b[0m \u001b[0;34m\"High_Resolution\"\u001b[0m\u001b[0;34m)\u001b[0m\u001b[0;34m\u001b[0m\u001b[0;34m\u001b[0m\u001b[0m\n\u001b[1;32m      4\u001b[0m         \u001b[0mself\u001b[0m\u001b[0;34m.\u001b[0m\u001b[0mlr_root\u001b[0m \u001b[0;34m=\u001b[0m \u001b[0mos\u001b[0m\u001b[0;34m.\u001b[0m\u001b[0mpath\u001b[0m\u001b[0;34m.\u001b[0m\u001b[0mjoin\u001b[0m\u001b[0;34m(\u001b[0m\u001b[0mroot_dir\u001b[0m\u001b[0;34m,\u001b[0m \u001b[0;34m\"train\"\u001b[0m\u001b[0;34m,\u001b[0m \u001b[0;34m\"Low_Resolution\"\u001b[0m\u001b[0;34m)\u001b[0m\u001b[0;34m\u001b[0m\u001b[0;34m\u001b[0m\u001b[0m\n\u001b[1;32m      5\u001b[0m         \u001b[0mself\u001b[0m\u001b[0;34m.\u001b[0m\u001b[0mtransform\u001b[0m \u001b[0;34m=\u001b[0m \u001b[0mT\u001b[0m\u001b[0;34m.\u001b[0m\u001b[0mToTensor\u001b[0m\u001b[0;34m(\u001b[0m\u001b[0;34m)\u001b[0m\u001b[0;34m\u001b[0m\u001b[0;34m\u001b[0m\u001b[0m\n",
            "\u001b[0;31mNameError\u001b[0m: name 'Dataset' is not defined"
          ]
        }
      ],
      "source": [
        "class SRDataset(Dataset):\n",
        "    def __init__(self, root_dir):\n",
        "        self.hr_root = os.path.join(root_dir, \"train\", \"High_Resolution\")\n",
        "        self.lr_root = os.path.join(root_dir, \"train\", \"Low_Resolution\")\n",
        "        self.transform = T.ToTensor()\n",
        "\n",
        "        # 遞迴找出所有 low-resolution 圖片\n",
        "        self.lr_paths = []\n",
        "        for root, _, files in os.walk(self.lr_root):\n",
        "            for file in files:\n",
        "                if file.endswith(\".png\"):\n",
        "                    full_path = os.path.join(root, file)\n",
        "                    self.lr_paths.append(full_path)\n",
        "\n",
        "        # 依照路徑排序確保對齊（重要）\n",
        "        self.lr_paths.sort()\n",
        "\n",
        "    def __len__(self):\n",
        "        return len(self.lr_paths)\n",
        "\n",
        "    def __getitem__(self, idx):\n",
        "        lr_path = self.lr_paths[idx]\n",
        "        # 取得相對路徑以定位對應 HR 檔案\n",
        "        rel_path = os.path.relpath(lr_path, self.lr_root)\n",
        "        hr_path = os.path.join(self.hr_root, rel_path)\n",
        "\n",
        "        # 載入圖片\n",
        "        lr_img = Image.open(lr_path).convert(\"RGB\")\n",
        "        hr_img = Image.open(hr_path).convert(\"RGB\")\n",
        "\n",
        "        return self.transform(lr_img), self.transform(hr_img)"
      ]
    },
    {
      "cell_type": "markdown",
      "id": "ea1e9fc2",
      "metadata": {
        "id": "ea1e9fc2"
      },
      "source": [
        "# 定義 Upsampler CNN 模型"
      ]
    },
    {
      "cell_type": "code",
      "execution_count": null,
      "id": "42ec24b6",
      "metadata": {
        "vscode": {
          "languageId": "plaintext"
        },
        "id": "42ec24b6"
      },
      "outputs": [],
      "source": [
        "class CNNUpsampler(nn.Module):\n",
        "    def __init__(self, scale=2):\n",
        "        super().__init__()\n",
        "        self.model = nn.Sequential(\n",
        "            nn.Conv2d(3, 64, 3, padding=1),\n",
        "            nn.ReLU(inplace=True),\n",
        "            nn.Conv2d(64, 64, 3, padding=1),\n",
        "            nn.ReLU(inplace=True),\n",
        "            nn.Conv2d(64, 3 * scale * scale, 3, padding=1),\n",
        "            nn.PixelShuffle(scale)\n",
        "        )\n",
        "\n",
        "    def forward(self, x):\n",
        "        return self.model(x)"
      ]
    },
    {
      "cell_type": "markdown",
      "id": "ed470ea4",
      "metadata": {
        "id": "ed470ea4"
      },
      "source": [
        "# 設定訓練參數"
      ]
    },
    {
      "cell_type": "code",
      "execution_count": null,
      "id": "80a77426",
      "metadata": {
        "vscode": {
          "languageId": "plaintext"
        },
        "id": "80a77426"
      },
      "outputs": [],
      "source": [
        "epochs = 30\n",
        "batch_size = 8\n",
        "learning_rate = 1e-4\n",
        "scale_factor = 2\n",
        "\n",
        "device = torch.device(\"cuda\" if torch.cuda.is_available() else \"cpu\")\n",
        "\n",
        "dataset = SRDataset(\"dataset\")\n",
        "dataloader = DataLoader(dataset, batch_size=batch_size, shuffle=True)\n",
        "\n",
        "model = CNNUpsampler(scale=scale_factor).to(device)\n",
        "optimizer = torch.optim.Adam(model.parameters(), lr=learning_rate)\n",
        "loss_fn = nn.L1Loss()\n",
        "\n",
        "losses = []"
      ]
    },
    {
      "cell_type": "markdown",
      "id": "28e94f41",
      "metadata": {
        "id": "28e94f41"
      },
      "source": [
        "# 開始訓練"
      ]
    },
    {
      "cell_type": "code",
      "execution_count": null,
      "id": "cd2e2eee",
      "metadata": {
        "vscode": {
          "languageId": "plaintext"
        },
        "id": "cd2e2eee"
      },
      "outputs": [],
      "source": [
        "model.train()\n",
        "for epoch in range(epochs):\n",
        "    total_loss = 0\n",
        "    for x, y in dataloader:\n",
        "        x, y = x.to(device), y.to(device)\n",
        "        pred = model(x)\n",
        "        loss = loss_fn(pred, y)\n",
        "\n",
        "        optimizer.zero_grad()\n",
        "        loss.backward()\n",
        "        optimizer.step()\n",
        "\n",
        "        total_loss += loss.item()\n",
        "\n",
        "    avg_loss = total_loss / len(dataloader)\n",
        "    losses.append(avg_loss)\n",
        "    print(f\"Epoch {epoch+1}/{epochs} - Loss: {avg_loss:.4f}\")\n",
        "\n",
        "    if(epoch % 5 == 0):\n",
        "      torch.save(model.state_dict(), f\"upsampler_{epoch}.pth\")\n",
        "      print(f\"模型儲存為 upsampler_{epoch}.pth\")"
      ]
    },
    {
      "cell_type": "markdown",
      "id": "d68bce74",
      "metadata": {
        "id": "d68bce74"
      },
      "source": [
        "# 視覺化 Loss 曲線"
      ]
    },
    {
      "cell_type": "code",
      "execution_count": null,
      "id": "3c7de7f2",
      "metadata": {
        "vscode": {
          "languageId": "plaintext"
        },
        "id": "3c7de7f2"
      },
      "outputs": [],
      "source": [
        "plt.plot(losses)\n",
        "plt.xlabel(\"Epoch\")\n",
        "plt.ylabel(\"L1 Loss\")\n",
        "plt.title(\"Training Loss\")\n",
        "plt.grid(True)\n",
        "plt.show()"
      ]
    },
    {
      "cell_type": "markdown",
      "id": "cb8a1ef7",
      "metadata": {
        "id": "cb8a1ef7"
      },
      "source": [
        "# 儲存模型並下載"
      ]
    },
    {
      "cell_type": "code",
      "execution_count": null,
      "id": "5f1e7000",
      "metadata": {
        "vscode": {
          "languageId": "plaintext"
        },
        "id": "5f1e7000"
      },
      "outputs": [],
      "source": [
        "torch.save(model.state_dict(), \"upsampler.pth\")\n",
        "print(\"模型儲存為 upsampler.pth\")\n",
        "\n",
        "files.download(\"upsampler.pth\")"
      ]
    }
  ],
  "metadata": {
    "language_info": {
      "name": "python"
    },
    "colab": {
      "provenance": [],
      "gpuType": "T4"
    },
    "kernelspec": {
      "name": "python3",
      "display_name": "Python 3"
    },
    "accelerator": "GPU"
  },
  "nbformat": 4,
  "nbformat_minor": 5
}